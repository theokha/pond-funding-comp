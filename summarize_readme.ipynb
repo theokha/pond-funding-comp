{
 "cells": [
  {
   "cell_type": "markdown",
   "metadata": {},
   "source": [
    "# Using BART to summarize readme file from github repos\n",
    "Many LLM models are available, but why i choose BART is because its more relevant to summarizing task. And also, no API needed. Just load the trained models and let the magic happen."
   ]
  },
  {
   "cell_type": "code",
   "execution_count": null,
   "metadata": {},
   "outputs": [
    {
     "name": "stderr",
     "output_type": "stream",
     "text": [
      "c:\\Users\\user\\Anaconda3\\envs\\env_dlib\\lib\\site-packages\\scipy\\__init__.py:146: UserWarning: A NumPy version >=1.16.5 and <1.23.0 is required for this version of SciPy (detected version 1.24.3\n",
      "  warnings.warn(f\"A NumPy version >={np_minversion} and <{np_maxversion}\"\n"
     ]
    },
    {
     "data": {
      "application/vnd.jupyter.widget-view+json": {
       "model_id": "a974cc0266834719a7aa89e84b6f5cb9",
       "version_major": 2,
       "version_minor": 0
      },
      "text/plain": [
       "model.safetensors:   0%|          | 0.00/1.63G [00:00<?, ?B/s]"
      ]
     },
     "metadata": {},
     "output_type": "display_data"
    },
    {
     "name": "stderr",
     "output_type": "stream",
     "text": [
      "c:\\Users\\user\\Anaconda3\\envs\\env_dlib\\lib\\site-packages\\huggingface_hub\\file_download.py:140: UserWarning: `huggingface_hub` cache-system uses symlinks by default to efficiently store duplicated files but your machine does not support them in C:\\Users\\user\\.cache\\huggingface\\hub\\models--facebook--bart-large-cnn. Caching files will still work but in a degraded version that might require more space on your disk. This warning can be disabled by setting the `HF_HUB_DISABLE_SYMLINKS_WARNING` environment variable. For more details, see https://huggingface.co/docs/huggingface_hub/how-to-cache#limitations.\n",
      "To support symlinks on Windows, you either need to activate Developer Mode or to run Python as an administrator. In order to activate developer mode, see this article: https://docs.microsoft.com/en-us/windows/apps/get-started/enable-your-device-for-development\n",
      "  warnings.warn(message)\n"
     ]
    },
    {
     "data": {
      "application/vnd.jupyter.widget-view+json": {
       "model_id": "a945f4a79c9f462bb90ef73e54d107ac",
       "version_major": 2,
       "version_minor": 0
      },
      "text/plain": [
       "generation_config.json:   0%|          | 0.00/363 [00:00<?, ?B/s]"
      ]
     },
     "metadata": {},
     "output_type": "display_data"
    },
    {
     "name": "stdout",
     "output_type": "stream",
     "text": [
      "                                            url  is_private  has_homepage  \\\n",
      "0           https://github.com/zloirock/core-js       False         False   \n",
      "1  https://github.com/sindresorhus/p-cancelable       False         False   \n",
      "2              https://github.com/fb55/entities       False         False   \n",
      "\n",
      "    size  stars  watchers  has_projects  has_pages  has_wiki  has_discussions  \\\n",
      "0  62787  24762     24762         False       True     False             True   \n",
      "1     59    441       441         False      False     False            False   \n",
      "2   4549    331       331         False      False     False            False   \n",
      "\n",
      "   ...  log_stars  log_watchers  log_forks  log_commit_count  \\\n",
      "0  ...  10.117065     10.117065   7.414573          6.234411   \n",
      "1  ...   6.089045      6.089045   3.091042          6.536692   \n",
      "2  ...   5.802118      5.802118   4.158883          6.802395   \n",
      "\n",
      "   open_issues_count closed_issues_count open_prs_count  closed_prs_count  \\\n",
      "0                 33                 923              7               365   \n",
      "1                  3                  16              0                20   \n",
      "2                  1                  40              3              1668   \n",
      "\n",
      "    used_by                                            summary  \n",
      "0  20022808  Modular standard library for JavaScript. Inclu...  \n",
      "1         0  P-cancelable is a JavaScript function that can...  \n",
      "2  20928144  Encode & decode HTML & XML entities with ease ...  \n",
      "\n",
      "[3 rows x 54 columns]\n"
     ]
    }
   ],
   "source": [
    "import requests\n",
    "import pandas as pd\n",
    "from transformers import BartForConditionalGeneration, BartTokenizer\n",
    "\n",
    "# Load the BART model and tokenizer\n",
    "model_name = \"facebook/bart-large-cnn\"  \n",
    "tokenizer = BartTokenizer.from_pretrained(model_name)\n",
    "model = BartForConditionalGeneration.from_pretrained(model_name)\n",
    "\n",
    "# Load the metrics DataFrame\n",
    "metrics_df = pd.read_csv('all_github_metrics_withclosedopen_issues_prs_usedby.csv')\n",
    "\n",
    "# Function to fetch README file\n",
    "def fetch_readme(url, github_token):\n",
    "    try:\n",
    "        # Extract the owner and repo name from the URL\n",
    "        parts = url.split('/')\n",
    "        owner = parts[-2]\n",
    "        repo = parts[-1]\n",
    "        \n",
    "        # GitHub API URL for the README\n",
    "        api_url = f'https://api.github.com/repos/{owner}/{repo}/readme'\n",
    "        headers = {\n",
    "            'Accept': 'application/vnd.github.v3.raw',\n",
    "            'Authorization': f'token {github_token}'  # Include GitHub token for authentication\n",
    "        }\n",
    "        \n",
    "        response = requests.get(api_url, headers=headers)\n",
    "        response.raise_for_status()  # Raise an error for bad responses\n",
    "        \n",
    "        return response.text  # Return the README content\n",
    "    except Exception as e:\n",
    "        print(f\"Error fetching README for {url}: {e}\")\n",
    "        return None\n",
    "\n",
    "# Function to summarize README using BART\n",
    "def summarize_readme(readme_content):\n",
    "    if readme_content:\n",
    "        inputs = tokenizer.encode(\"summarize: \" + readme_content, return_tensors=\"pt\", max_length=1024, truncation=True)\n",
    "        summary_ids = model.generate(inputs, max_length=50, min_length=25, length_penalty=2.0, num_beams=4, early_stopping=True)\n",
    "        return tokenizer.decode(summary_ids[0], skip_special_tokens=True)\n",
    "    return \"No content to summarize\"\n",
    "\n",
    "# Process only the first three rows of the DataFrame\n",
    "github_token = 'github token'  # Your GitHub token\n"
   ]
  },
  {
   "cell_type": "code",
   "execution_count": 3,
   "metadata": {},
   "outputs": [
    {
     "name": "stdout",
     "output_type": "stream",
     "text": [
      "Error fetching README for https://github.com/prysmaticlabs/protoc-gen-go-cast: 404 Client Error: Not Found for url: https://api.github.com/repos/prysmaticlabs/protoc-gen-go-cast/readme\n",
      "                                                   url  is_private  \\\n",
      "0                  https://github.com/zloirock/core-js       False   \n",
      "1         https://github.com/sindresorhus/p-cancelable       False   \n",
      "2                     https://github.com/fb55/entities       False   \n",
      "3                  https://github.com/paradigmxyz/reth       False   \n",
      "4                      https://github.com/yarnpkg/yarn       False   \n",
      "..                                                 ...         ...   \n",
      "161                   https://github.com/rollup/rollup       False   \n",
      "162       https://github.com/ajv-validator/ajv-formats       False   \n",
      "163  https://github.com/ethereumjs/ethereumjs-block...       False   \n",
      "164                   https://github.com/facebook/fbjs       False   \n",
      "165                  https://github.com/reactivex/rxjs       False   \n",
      "\n",
      "     has_homepage    size  stars  watchers  has_projects  has_pages  has_wiki  \\\n",
      "0           False   62787  24762     24762         False       True     False   \n",
      "1           False      59    441       441         False      False     False   \n",
      "2           False    4549    331       331         False      False     False   \n",
      "3            True   88008   4276      4276          True       True     False   \n",
      "4            True  119826  41478     41478          True      False     False   \n",
      "..            ...     ...    ...       ...           ...        ...       ...   \n",
      "161          True   30458  25556     25556          True      False      True   \n",
      "162          True      86    192       192         False      False      True   \n",
      "163          True     335    123       123         False      False     False   \n",
      "164         False    1556   1961      1961          True      False     False   \n",
      "165          True  125743  30962     30962          True       True     False   \n",
      "\n",
      "     has_discussions  ...  log_stars  log_watchers  log_forks  \\\n",
      "0               True  ...  10.117065     10.117065   7.414573   \n",
      "1              False  ...   6.089045      6.089045   3.091042   \n",
      "2              False  ...   5.802118      5.802118   4.158883   \n",
      "3               True  ...   8.360773      8.360773   7.211557   \n",
      "4              False  ...  10.632918     10.632918   7.913155   \n",
      "..               ...  ...        ...           ...        ...   \n",
      "161             True  ...  10.148627     10.148627   7.342132   \n",
      "162            False  ...   5.257495      5.257495   3.610918   \n",
      "163            False  ...   4.812184      4.812184   4.143135   \n",
      "164            False  ...   7.581210      7.581210   5.749393   \n",
      "165             True  ...  10.340516     10.340516   8.008366   \n",
      "\n",
      "     log_commit_count  open_issues_count closed_issues_count open_prs_count  \\\n",
      "0            6.234411                 33                 923              7   \n",
      "1            6.536692                  3                  16              0   \n",
      "2            6.802395                  1                  40              3   \n",
      "3            3.401197                233                3487             74   \n",
      "4            6.234411               1864                4730            204   \n",
      "..                ...                ...                 ...            ...   \n",
      "161          3.401197                556                2804             26   \n",
      "162          6.345636                 41                  32              6   \n",
      "163          5.010635                  0                  39              0   \n",
      "164          6.234411                 45                  95             32   \n",
      "165          6.802395                218                2936             53   \n",
      "\n",
      "     closed_prs_count   used_by  \\\n",
      "0                 365  20022808   \n",
      "1                  20         0   \n",
      "2                1668  20928144   \n",
      "3               10070         0   \n",
      "4                2142    226487   \n",
      "..                ...       ...   \n",
      "161              2352  16073089   \n",
      "162                27  10848486   \n",
      "163                92         0   \n",
      "164               356         0   \n",
      "165              3850  12210616   \n",
      "\n",
      "                                               summary  \n",
      "0    Modular standard library for JavaScript. Inclu...  \n",
      "1    P-cancelable is a JavaScript function that can...  \n",
      "2    Encode & decode HTML & XML entities with ease ...  \n",
      "3    Reth is a new full node implementation of the ...  \n",
      "4    This repository holds the sources for Yarn 1.x...  \n",
      "..                                                 ...  \n",
      "161  Rollup is a module bundler for JavaScript. It ...  \n",
      "162  Ajv-formats is a set of formats for Node.js. T...  \n",
      "163  ethereumjs-blockchain is a module to store and...  \n",
      "164  FBJS makes it easier for Facebook to share and...  \n",
      "165  Reactive Extensions Library for JavaScript is ...  \n",
      "\n",
      "[166 rows x 54 columns]\n"
     ]
    }
   ],
   "source": [
    "\n",
    "summaries = []\n",
    "for url in metrics_df['url']:\n",
    "    readme_content = fetch_readme(url, github_token)\n",
    "    summary = summarize_readme(readme_content)\n",
    "    summaries.append(summary)\n",
    "\n",
    "# Insert summaries into the second column of metrics_df\n",
    "metrics_df['summary'] = summaries  # Add the summaries as a new column\n",
    "\n",
    "# Step 9: Save the updated metrics DataFrame to a new CSV file\n",
    "metrics_df.to_csv('metrics_with_summary.csv', index=False)\n",
    "\n",
    "# Print the updated metrics DataFrame\n",
    "print(metrics_df)\n"
   ]
  },
  {
   "cell_type": "markdown",
   "metadata": {},
   "source": [
    "#### One repo link https://github.com/prysmaticlabs/protoc-gen-go-cast doesnt have readme file"
   ]
  }
 ],
 "metadata": {
  "kernelspec": {
   "display_name": "env_dlib",
   "language": "python",
   "name": "python3"
  },
  "language_info": {
   "codemirror_mode": {
    "name": "ipython",
    "version": 3
   },
   "file_extension": ".py",
   "mimetype": "text/x-python",
   "name": "python",
   "nbconvert_exporter": "python",
   "pygments_lexer": "ipython3",
   "version": "3.9.7"
  }
 },
 "nbformat": 4,
 "nbformat_minor": 2
}
